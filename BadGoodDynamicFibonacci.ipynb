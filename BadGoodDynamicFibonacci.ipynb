{
 "cells": [
  {
   "cell_type": "markdown",
   "metadata": {},
   "source": [
    "# Recursion Trace Function"
   ]
  },
  {
   "cell_type": "markdown",
   "metadata": {},
   "source": [
    "The trace wrapper function is implemented to print the recursiom trace with indentation for easy visualization of function execution."
   ]
  },
  {
   "cell_type": "code",
   "execution_count": 161,
   "metadata": {
    "ExecuteTime": {
     "end_time": "2019-10-07T23:30:27.398959Z",
     "start_time": "2019-10-07T23:30:27.381957Z"
    }
   },
   "outputs": [],
   "source": [
    "import timeit                #timeit for timecomplexity calculation\n",
    "from functools import wraps  #wraps for recursion trace\n",
    "\n",
    "def trace(func):\n",
    "    func_name = func.__name__  #get the function name\n",
    "    separator = \"|  \"          #separator for recursion indentation\n",
    "    trace.recursion_depth = 0  #recursion depth\n",
    "    \n",
    "    @wraps(func)\n",
    "    def trace_func(*args, **kwargs):\n",
    "        # Print recursion invokation with indentation based on recursion_depth\n",
    "        print(f\"{separator * trace.recursion_depth}|--{func_name}({'. '.join(map(str, args))})\") \n",
    "        trace.recursion_depth += 1 #keep track of recursion depth\n",
    "        result = func(*args, **kwargs) #invoke new function call\n",
    "        # Print recursion return with indentation based on recursion_depth\n",
    "        print(f\"{separator*trace.recursion_depth}|-- return {result}\")\n",
    "        trace.recursion_depth -= 1 #keep track of recursion depth\n",
    "        #return the results\n",
    "        return result\n",
    "    \n",
    "    #return the wrapper function\n",
    "    return trace_func"
   ]
  },
  {
   "cell_type": "markdown",
   "metadata": {},
   "source": [
    "# BAD Fibonacci function"
   ]
  },
  {
   "cell_type": "markdown",
   "metadata": {},
   "source": [
    "The bad_fib is implemented to call the bad_fib(n-2) and bad_fib(n-1). This function has duplicate calls computation of lower ordered terms multiple times."
   ]
  },
  {
   "cell_type": "code",
   "execution_count": 162,
   "metadata": {
    "ExecuteTime": {
     "end_time": "2019-10-07T23:30:27.413960Z",
     "start_time": "2019-10-07T23:30:27.403959Z"
    }
   },
   "outputs": [],
   "source": [
    "def bad_fib(n):\n",
    "    if n <= 1: \n",
    "        return n\n",
    "    else: \n",
    "        return bad_fib(n-2) + bad_fib(n-1)"
   ]
  },
  {
   "cell_type": "markdown",
   "metadata": {},
   "source": [
    "# Good Fibonacci function"
   ]
  },
  {
   "cell_type": "markdown",
   "metadata": {
    "ExecuteTime": {
     "end_time": "2019-10-07T23:04:20.953477Z",
     "start_time": "2019-10-07T23:04:20.942477Z"
    }
   },
   "source": [
    "The good_fib is implemented to use the tuple of last numbers in series to avoid duplicate calculations."
   ]
  },
  {
   "cell_type": "code",
   "execution_count": 163,
   "metadata": {
    "ExecuteTime": {
     "end_time": "2019-10-07T23:30:27.448964Z",
     "start_time": "2019-10-07T23:30:27.428962Z"
    }
   },
   "outputs": [],
   "source": [
    "def good_fib(n):\n",
    "    if n <= 1: \n",
    "        return n, 0\n",
    "    else: \n",
    "        a, b = good_fib(n-1)\n",
    "        return a + b, a"
   ]
  },
  {
   "cell_type": "markdown",
   "metadata": {},
   "source": [
    "# Fibonacci function with Dynamic Programming"
   ]
  },
  {
   "cell_type": "markdown",
   "metadata": {},
   "source": [
    "The dynamic_fib is implemented to use dictionary memory to keep track of previously computed values to avoid duplicate calculations."
   ]
  },
  {
   "cell_type": "code",
   "execution_count": 164,
   "metadata": {
    "ExecuteTime": {
     "end_time": "2019-10-07T23:30:27.468966Z",
     "start_time": "2019-10-07T23:30:27.455964Z"
    }
   },
   "outputs": [],
   "source": [
    "def dynamic_fib(n, memo = {}):\n",
    "    if n in memo.keys():    #if value calulated before return from memory\n",
    "        return memo[n]\n",
    "    else:\n",
    "        if n <= 1: \n",
    "            rv = n\n",
    "        else: \n",
    "            rv =  dynamic_fib(n-2, memo) + dynamic_fib(n-1, memo)  #claculate new value\n",
    "        memo[n] = rv    #keep track of calcualted values\n",
    "        return rv"
   ]
  },
  {
   "cell_type": "code",
   "execution_count": 165,
   "metadata": {
    "ExecuteTime": {
     "end_time": "2019-10-07T23:30:27.938013Z",
     "start_time": "2019-10-07T23:30:27.479967Z"
    }
   },
   "outputs": [
    {
     "name": "stdout",
     "output_type": "stream",
     "text": [
      "Bad Fib for 10:     0.408181952000632\n",
      "Good Fib for 10:    0.02859894399989571\n",
      "Dynamic Fib for 10: 0.003653862000646768\n"
     ]
    }
   ],
   "source": [
    "#calculate time complexity\n",
    "print(\"Bad Fib for 10:    \", timeit.timeit(setup = \"from __main__ import bad_fib\", stmt = \"bad_fib(10)\", number = 10000))\n",
    "print(\"Good Fib for 10:   \", timeit.timeit(setup = \"from __main__ import good_fib\", stmt = \"good_fib(10)\", number = 10000))\n",
    "print(\"Dynamic Fib for 10:\", timeit.timeit(setup = \"from __main__ import dynamic_fib\", stmt = \"dynamic_fib(10)\", number = 10000))"
   ]
  },
  {
   "cell_type": "code",
   "execution_count": 166,
   "metadata": {
    "ExecuteTime": {
     "end_time": "2019-10-07T23:30:27.945013Z",
     "start_time": "2019-10-07T23:30:27.940013Z"
    }
   },
   "outputs": [],
   "source": [
    "#Get trace wraper function\n",
    "bad_fib = trace(bad_fib)\n",
    "good_fib = trace(good_fib)\n",
    "dynamic_fib = trace(dynamic_fib)\n"
   ]
  },
  {
   "cell_type": "code",
   "execution_count": 167,
   "metadata": {
    "ExecuteTime": {
     "end_time": "2019-10-07T23:30:27.985017Z",
     "start_time": "2019-10-07T23:30:27.948014Z"
    }
   },
   "outputs": [
    {
     "name": "stdout",
     "output_type": "stream",
     "text": [
      "|--bad_fib(10)\n",
      "|  |--bad_fib(8)\n",
      "|  |  |--bad_fib(6)\n",
      "|  |  |  |--bad_fib(4)\n",
      "|  |  |  |  |--bad_fib(2)\n",
      "|  |  |  |  |  |--bad_fib(0)\n",
      "|  |  |  |  |  |  |-- return 0\n",
      "|  |  |  |  |  |--bad_fib(1)\n",
      "|  |  |  |  |  |  |-- return 1\n",
      "|  |  |  |  |  |-- return 1\n",
      "|  |  |  |  |--bad_fib(3)\n",
      "|  |  |  |  |  |--bad_fib(1)\n",
      "|  |  |  |  |  |  |-- return 1\n",
      "|  |  |  |  |  |--bad_fib(2)\n",
      "|  |  |  |  |  |  |--bad_fib(0)\n",
      "|  |  |  |  |  |  |  |-- return 0\n",
      "|  |  |  |  |  |  |--bad_fib(1)\n",
      "|  |  |  |  |  |  |  |-- return 1\n",
      "|  |  |  |  |  |  |-- return 1\n",
      "|  |  |  |  |  |-- return 2\n",
      "|  |  |  |  |-- return 3\n",
      "|  |  |  |--bad_fib(5)\n",
      "|  |  |  |  |--bad_fib(3)\n",
      "|  |  |  |  |  |--bad_fib(1)\n",
      "|  |  |  |  |  |  |-- return 1\n",
      "|  |  |  |  |  |--bad_fib(2)\n",
      "|  |  |  |  |  |  |--bad_fib(0)\n",
      "|  |  |  |  |  |  |  |-- return 0\n",
      "|  |  |  |  |  |  |--bad_fib(1)\n",
      "|  |  |  |  |  |  |  |-- return 1\n",
      "|  |  |  |  |  |  |-- return 1\n",
      "|  |  |  |  |  |-- return 2\n",
      "|  |  |  |  |--bad_fib(4)\n",
      "|  |  |  |  |  |--bad_fib(2)\n",
      "|  |  |  |  |  |  |--bad_fib(0)\n",
      "|  |  |  |  |  |  |  |-- return 0\n",
      "|  |  |  |  |  |  |--bad_fib(1)\n",
      "|  |  |  |  |  |  |  |-- return 1\n",
      "|  |  |  |  |  |  |-- return 1\n",
      "|  |  |  |  |  |--bad_fib(3)\n",
      "|  |  |  |  |  |  |--bad_fib(1)\n",
      "|  |  |  |  |  |  |  |-- return 1\n",
      "|  |  |  |  |  |  |--bad_fib(2)\n",
      "|  |  |  |  |  |  |  |--bad_fib(0)\n",
      "|  |  |  |  |  |  |  |  |-- return 0\n",
      "|  |  |  |  |  |  |  |--bad_fib(1)\n",
      "|  |  |  |  |  |  |  |  |-- return 1\n",
      "|  |  |  |  |  |  |  |-- return 1\n",
      "|  |  |  |  |  |  |-- return 2\n",
      "|  |  |  |  |  |-- return 3\n",
      "|  |  |  |  |-- return 5\n",
      "|  |  |  |-- return 8\n",
      "|  |  |--bad_fib(7)\n",
      "|  |  |  |--bad_fib(5)\n",
      "|  |  |  |  |--bad_fib(3)\n",
      "|  |  |  |  |  |--bad_fib(1)\n",
      "|  |  |  |  |  |  |-- return 1\n",
      "|  |  |  |  |  |--bad_fib(2)\n",
      "|  |  |  |  |  |  |--bad_fib(0)\n",
      "|  |  |  |  |  |  |  |-- return 0\n",
      "|  |  |  |  |  |  |--bad_fib(1)\n",
      "|  |  |  |  |  |  |  |-- return 1\n",
      "|  |  |  |  |  |  |-- return 1\n",
      "|  |  |  |  |  |-- return 2\n",
      "|  |  |  |  |--bad_fib(4)\n",
      "|  |  |  |  |  |--bad_fib(2)\n",
      "|  |  |  |  |  |  |--bad_fib(0)\n",
      "|  |  |  |  |  |  |  |-- return 0\n",
      "|  |  |  |  |  |  |--bad_fib(1)\n",
      "|  |  |  |  |  |  |  |-- return 1\n",
      "|  |  |  |  |  |  |-- return 1\n",
      "|  |  |  |  |  |--bad_fib(3)\n",
      "|  |  |  |  |  |  |--bad_fib(1)\n",
      "|  |  |  |  |  |  |  |-- return 1\n",
      "|  |  |  |  |  |  |--bad_fib(2)\n",
      "|  |  |  |  |  |  |  |--bad_fib(0)\n",
      "|  |  |  |  |  |  |  |  |-- return 0\n",
      "|  |  |  |  |  |  |  |--bad_fib(1)\n",
      "|  |  |  |  |  |  |  |  |-- return 1\n",
      "|  |  |  |  |  |  |  |-- return 1\n",
      "|  |  |  |  |  |  |-- return 2\n",
      "|  |  |  |  |  |-- return 3\n",
      "|  |  |  |  |-- return 5\n",
      "|  |  |  |--bad_fib(6)\n",
      "|  |  |  |  |--bad_fib(4)\n",
      "|  |  |  |  |  |--bad_fib(2)\n",
      "|  |  |  |  |  |  |--bad_fib(0)\n",
      "|  |  |  |  |  |  |  |-- return 0\n",
      "|  |  |  |  |  |  |--bad_fib(1)\n",
      "|  |  |  |  |  |  |  |-- return 1\n",
      "|  |  |  |  |  |  |-- return 1\n",
      "|  |  |  |  |  |--bad_fib(3)\n",
      "|  |  |  |  |  |  |--bad_fib(1)\n",
      "|  |  |  |  |  |  |  |-- return 1\n",
      "|  |  |  |  |  |  |--bad_fib(2)\n",
      "|  |  |  |  |  |  |  |--bad_fib(0)\n",
      "|  |  |  |  |  |  |  |  |-- return 0\n",
      "|  |  |  |  |  |  |  |--bad_fib(1)\n",
      "|  |  |  |  |  |  |  |  |-- return 1\n",
      "|  |  |  |  |  |  |  |-- return 1\n",
      "|  |  |  |  |  |  |-- return 2\n",
      "|  |  |  |  |  |-- return 3\n",
      "|  |  |  |  |--bad_fib(5)\n",
      "|  |  |  |  |  |--bad_fib(3)\n",
      "|  |  |  |  |  |  |--bad_fib(1)\n",
      "|  |  |  |  |  |  |  |-- return 1\n",
      "|  |  |  |  |  |  |--bad_fib(2)\n",
      "|  |  |  |  |  |  |  |--bad_fib(0)\n",
      "|  |  |  |  |  |  |  |  |-- return 0\n",
      "|  |  |  |  |  |  |  |--bad_fib(1)\n",
      "|  |  |  |  |  |  |  |  |-- return 1\n",
      "|  |  |  |  |  |  |  |-- return 1\n",
      "|  |  |  |  |  |  |-- return 2\n",
      "|  |  |  |  |  |--bad_fib(4)\n",
      "|  |  |  |  |  |  |--bad_fib(2)\n",
      "|  |  |  |  |  |  |  |--bad_fib(0)\n",
      "|  |  |  |  |  |  |  |  |-- return 0\n",
      "|  |  |  |  |  |  |  |--bad_fib(1)\n",
      "|  |  |  |  |  |  |  |  |-- return 1\n",
      "|  |  |  |  |  |  |  |-- return 1\n",
      "|  |  |  |  |  |  |--bad_fib(3)\n",
      "|  |  |  |  |  |  |  |--bad_fib(1)\n",
      "|  |  |  |  |  |  |  |  |-- return 1\n",
      "|  |  |  |  |  |  |  |--bad_fib(2)\n",
      "|  |  |  |  |  |  |  |  |--bad_fib(0)\n",
      "|  |  |  |  |  |  |  |  |  |-- return 0\n",
      "|  |  |  |  |  |  |  |  |--bad_fib(1)\n",
      "|  |  |  |  |  |  |  |  |  |-- return 1\n",
      "|  |  |  |  |  |  |  |  |-- return 1\n",
      "|  |  |  |  |  |  |  |-- return 2\n",
      "|  |  |  |  |  |  |-- return 3\n",
      "|  |  |  |  |  |-- return 5\n",
      "|  |  |  |  |-- return 8\n",
      "|  |  |  |-- return 13\n",
      "|  |  |-- return 21\n",
      "|  |--bad_fib(9)\n",
      "|  |  |--bad_fib(7)\n",
      "|  |  |  |--bad_fib(5)\n",
      "|  |  |  |  |--bad_fib(3)\n",
      "|  |  |  |  |  |--bad_fib(1)\n",
      "|  |  |  |  |  |  |-- return 1\n",
      "|  |  |  |  |  |--bad_fib(2)\n",
      "|  |  |  |  |  |  |--bad_fib(0)\n",
      "|  |  |  |  |  |  |  |-- return 0\n",
      "|  |  |  |  |  |  |--bad_fib(1)\n",
      "|  |  |  |  |  |  |  |-- return 1\n",
      "|  |  |  |  |  |  |-- return 1\n",
      "|  |  |  |  |  |-- return 2\n",
      "|  |  |  |  |--bad_fib(4)\n",
      "|  |  |  |  |  |--bad_fib(2)\n",
      "|  |  |  |  |  |  |--bad_fib(0)\n",
      "|  |  |  |  |  |  |  |-- return 0\n",
      "|  |  |  |  |  |  |--bad_fib(1)\n",
      "|  |  |  |  |  |  |  |-- return 1\n",
      "|  |  |  |  |  |  |-- return 1\n",
      "|  |  |  |  |  |--bad_fib(3)\n",
      "|  |  |  |  |  |  |--bad_fib(1)\n",
      "|  |  |  |  |  |  |  |-- return 1\n",
      "|  |  |  |  |  |  |--bad_fib(2)\n",
      "|  |  |  |  |  |  |  |--bad_fib(0)\n",
      "|  |  |  |  |  |  |  |  |-- return 0\n",
      "|  |  |  |  |  |  |  |--bad_fib(1)\n",
      "|  |  |  |  |  |  |  |  |-- return 1\n",
      "|  |  |  |  |  |  |  |-- return 1\n",
      "|  |  |  |  |  |  |-- return 2\n",
      "|  |  |  |  |  |-- return 3\n",
      "|  |  |  |  |-- return 5\n",
      "|  |  |  |--bad_fib(6)\n",
      "|  |  |  |  |--bad_fib(4)\n",
      "|  |  |  |  |  |--bad_fib(2)\n",
      "|  |  |  |  |  |  |--bad_fib(0)\n",
      "|  |  |  |  |  |  |  |-- return 0\n",
      "|  |  |  |  |  |  |--bad_fib(1)\n",
      "|  |  |  |  |  |  |  |-- return 1\n",
      "|  |  |  |  |  |  |-- return 1\n",
      "|  |  |  |  |  |--bad_fib(3)\n",
      "|  |  |  |  |  |  |--bad_fib(1)\n",
      "|  |  |  |  |  |  |  |-- return 1\n",
      "|  |  |  |  |  |  |--bad_fib(2)\n",
      "|  |  |  |  |  |  |  |--bad_fib(0)\n",
      "|  |  |  |  |  |  |  |  |-- return 0\n",
      "|  |  |  |  |  |  |  |--bad_fib(1)\n",
      "|  |  |  |  |  |  |  |  |-- return 1\n",
      "|  |  |  |  |  |  |  |-- return 1\n",
      "|  |  |  |  |  |  |-- return 2\n",
      "|  |  |  |  |  |-- return 3\n",
      "|  |  |  |  |--bad_fib(5)\n",
      "|  |  |  |  |  |--bad_fib(3)\n",
      "|  |  |  |  |  |  |--bad_fib(1)\n",
      "|  |  |  |  |  |  |  |-- return 1\n",
      "|  |  |  |  |  |  |--bad_fib(2)\n",
      "|  |  |  |  |  |  |  |--bad_fib(0)\n",
      "|  |  |  |  |  |  |  |  |-- return 0\n",
      "|  |  |  |  |  |  |  |--bad_fib(1)\n",
      "|  |  |  |  |  |  |  |  |-- return 1\n",
      "|  |  |  |  |  |  |  |-- return 1\n",
      "|  |  |  |  |  |  |-- return 2\n",
      "|  |  |  |  |  |--bad_fib(4)\n",
      "|  |  |  |  |  |  |--bad_fib(2)\n",
      "|  |  |  |  |  |  |  |--bad_fib(0)\n",
      "|  |  |  |  |  |  |  |  |-- return 0\n",
      "|  |  |  |  |  |  |  |--bad_fib(1)\n",
      "|  |  |  |  |  |  |  |  |-- return 1\n",
      "|  |  |  |  |  |  |  |-- return 1\n",
      "|  |  |  |  |  |  |--bad_fib(3)\n",
      "|  |  |  |  |  |  |  |--bad_fib(1)\n",
      "|  |  |  |  |  |  |  |  |-- return 1\n",
      "|  |  |  |  |  |  |  |--bad_fib(2)\n",
      "|  |  |  |  |  |  |  |  |--bad_fib(0)\n",
      "|  |  |  |  |  |  |  |  |  |-- return 0\n",
      "|  |  |  |  |  |  |  |  |--bad_fib(1)\n",
      "|  |  |  |  |  |  |  |  |  |-- return 1\n",
      "|  |  |  |  |  |  |  |  |-- return 1\n",
      "|  |  |  |  |  |  |  |-- return 2\n",
      "|  |  |  |  |  |  |-- return 3\n",
      "|  |  |  |  |  |-- return 5\n",
      "|  |  |  |  |-- return 8\n",
      "|  |  |  |-- return 13\n",
      "|  |  |--bad_fib(8)\n",
      "|  |  |  |--bad_fib(6)\n",
      "|  |  |  |  |--bad_fib(4)\n",
      "|  |  |  |  |  |--bad_fib(2)\n",
      "|  |  |  |  |  |  |--bad_fib(0)\n",
      "|  |  |  |  |  |  |  |-- return 0\n",
      "|  |  |  |  |  |  |--bad_fib(1)\n",
      "|  |  |  |  |  |  |  |-- return 1\n",
      "|  |  |  |  |  |  |-- return 1\n",
      "|  |  |  |  |  |--bad_fib(3)\n",
      "|  |  |  |  |  |  |--bad_fib(1)\n",
      "|  |  |  |  |  |  |  |-- return 1\n",
      "|  |  |  |  |  |  |--bad_fib(2)\n",
      "|  |  |  |  |  |  |  |--bad_fib(0)\n",
      "|  |  |  |  |  |  |  |  |-- return 0\n",
      "|  |  |  |  |  |  |  |--bad_fib(1)\n",
      "|  |  |  |  |  |  |  |  |-- return 1\n",
      "|  |  |  |  |  |  |  |-- return 1\n",
      "|  |  |  |  |  |  |-- return 2\n",
      "|  |  |  |  |  |-- return 3\n",
      "|  |  |  |  |--bad_fib(5)\n",
      "|  |  |  |  |  |--bad_fib(3)\n",
      "|  |  |  |  |  |  |--bad_fib(1)\n",
      "|  |  |  |  |  |  |  |-- return 1\n",
      "|  |  |  |  |  |  |--bad_fib(2)\n",
      "|  |  |  |  |  |  |  |--bad_fib(0)\n",
      "|  |  |  |  |  |  |  |  |-- return 0\n",
      "|  |  |  |  |  |  |  |--bad_fib(1)\n",
      "|  |  |  |  |  |  |  |  |-- return 1\n",
      "|  |  |  |  |  |  |  |-- return 1\n",
      "|  |  |  |  |  |  |-- return 2\n",
      "|  |  |  |  |  |--bad_fib(4)\n",
      "|  |  |  |  |  |  |--bad_fib(2)\n",
      "|  |  |  |  |  |  |  |--bad_fib(0)\n",
      "|  |  |  |  |  |  |  |  |-- return 0\n",
      "|  |  |  |  |  |  |  |--bad_fib(1)\n",
      "|  |  |  |  |  |  |  |  |-- return 1\n",
      "|  |  |  |  |  |  |  |-- return 1\n",
      "|  |  |  |  |  |  |--bad_fib(3)\n",
      "|  |  |  |  |  |  |  |--bad_fib(1)\n",
      "|  |  |  |  |  |  |  |  |-- return 1\n",
      "|  |  |  |  |  |  |  |--bad_fib(2)\n",
      "|  |  |  |  |  |  |  |  |--bad_fib(0)\n",
      "|  |  |  |  |  |  |  |  |  |-- return 0\n",
      "|  |  |  |  |  |  |  |  |--bad_fib(1)\n",
      "|  |  |  |  |  |  |  |  |  |-- return 1\n",
      "|  |  |  |  |  |  |  |  |-- return 1\n",
      "|  |  |  |  |  |  |  |-- return 2\n",
      "|  |  |  |  |  |  |-- return 3\n",
      "|  |  |  |  |  |-- return 5\n",
      "|  |  |  |  |-- return 8\n",
      "|  |  |  |--bad_fib(7)\n",
      "|  |  |  |  |--bad_fib(5)\n",
      "|  |  |  |  |  |--bad_fib(3)\n",
      "|  |  |  |  |  |  |--bad_fib(1)\n",
      "|  |  |  |  |  |  |  |-- return 1\n",
      "|  |  |  |  |  |  |--bad_fib(2)\n",
      "|  |  |  |  |  |  |  |--bad_fib(0)\n",
      "|  |  |  |  |  |  |  |  |-- return 0\n",
      "|  |  |  |  |  |  |  |--bad_fib(1)\n",
      "|  |  |  |  |  |  |  |  |-- return 1\n",
      "|  |  |  |  |  |  |  |-- return 1\n",
      "|  |  |  |  |  |  |-- return 2\n",
      "|  |  |  |  |  |--bad_fib(4)\n",
      "|  |  |  |  |  |  |--bad_fib(2)\n",
      "|  |  |  |  |  |  |  |--bad_fib(0)\n",
      "|  |  |  |  |  |  |  |  |-- return 0\n",
      "|  |  |  |  |  |  |  |--bad_fib(1)\n",
      "|  |  |  |  |  |  |  |  |-- return 1\n",
      "|  |  |  |  |  |  |  |-- return 1\n",
      "|  |  |  |  |  |  |--bad_fib(3)\n",
      "|  |  |  |  |  |  |  |--bad_fib(1)\n",
      "|  |  |  |  |  |  |  |  |-- return 1\n",
      "|  |  |  |  |  |  |  |--bad_fib(2)\n",
      "|  |  |  |  |  |  |  |  |--bad_fib(0)\n",
      "|  |  |  |  |  |  |  |  |  |-- return 0\n",
      "|  |  |  |  |  |  |  |  |--bad_fib(1)\n",
      "|  |  |  |  |  |  |  |  |  |-- return 1\n",
      "|  |  |  |  |  |  |  |  |-- return 1\n",
      "|  |  |  |  |  |  |  |-- return 2\n",
      "|  |  |  |  |  |  |-- return 3\n",
      "|  |  |  |  |  |-- return 5\n",
      "|  |  |  |  |--bad_fib(6)\n",
      "|  |  |  |  |  |--bad_fib(4)\n",
      "|  |  |  |  |  |  |--bad_fib(2)\n",
      "|  |  |  |  |  |  |  |--bad_fib(0)\n",
      "|  |  |  |  |  |  |  |  |-- return 0\n",
      "|  |  |  |  |  |  |  |--bad_fib(1)\n",
      "|  |  |  |  |  |  |  |  |-- return 1\n",
      "|  |  |  |  |  |  |  |-- return 1\n",
      "|  |  |  |  |  |  |--bad_fib(3)\n",
      "|  |  |  |  |  |  |  |--bad_fib(1)\n",
      "|  |  |  |  |  |  |  |  |-- return 1\n",
      "|  |  |  |  |  |  |  |--bad_fib(2)\n",
      "|  |  |  |  |  |  |  |  |--bad_fib(0)\n",
      "|  |  |  |  |  |  |  |  |  |-- return 0\n",
      "|  |  |  |  |  |  |  |  |--bad_fib(1)\n",
      "|  |  |  |  |  |  |  |  |  |-- return 1\n",
      "|  |  |  |  |  |  |  |  |-- return 1\n",
      "|  |  |  |  |  |  |  |-- return 2\n",
      "|  |  |  |  |  |  |-- return 3\n",
      "|  |  |  |  |  |--bad_fib(5)\n",
      "|  |  |  |  |  |  |--bad_fib(3)\n",
      "|  |  |  |  |  |  |  |--bad_fib(1)\n",
      "|  |  |  |  |  |  |  |  |-- return 1\n",
      "|  |  |  |  |  |  |  |--bad_fib(2)\n",
      "|  |  |  |  |  |  |  |  |--bad_fib(0)\n",
      "|  |  |  |  |  |  |  |  |  |-- return 0\n",
      "|  |  |  |  |  |  |  |  |--bad_fib(1)\n",
      "|  |  |  |  |  |  |  |  |  |-- return 1\n",
      "|  |  |  |  |  |  |  |  |-- return 1\n",
      "|  |  |  |  |  |  |  |-- return 2\n",
      "|  |  |  |  |  |  |--bad_fib(4)\n",
      "|  |  |  |  |  |  |  |--bad_fib(2)\n",
      "|  |  |  |  |  |  |  |  |--bad_fib(0)\n",
      "|  |  |  |  |  |  |  |  |  |-- return 0\n",
      "|  |  |  |  |  |  |  |  |--bad_fib(1)\n",
      "|  |  |  |  |  |  |  |  |  |-- return 1\n",
      "|  |  |  |  |  |  |  |  |-- return 1\n",
      "|  |  |  |  |  |  |  |--bad_fib(3)\n",
      "|  |  |  |  |  |  |  |  |--bad_fib(1)\n",
      "|  |  |  |  |  |  |  |  |  |-- return 1\n",
      "|  |  |  |  |  |  |  |  |--bad_fib(2)\n",
      "|  |  |  |  |  |  |  |  |  |--bad_fib(0)\n",
      "|  |  |  |  |  |  |  |  |  |  |-- return 0\n",
      "|  |  |  |  |  |  |  |  |  |--bad_fib(1)\n",
      "|  |  |  |  |  |  |  |  |  |  |-- return 1\n",
      "|  |  |  |  |  |  |  |  |  |-- return 1\n",
      "|  |  |  |  |  |  |  |  |-- return 2\n",
      "|  |  |  |  |  |  |  |-- return 3\n",
      "|  |  |  |  |  |  |-- return 5\n",
      "|  |  |  |  |  |-- return 8\n",
      "|  |  |  |  |-- return 13\n",
      "|  |  |  |-- return 21\n",
      "|  |  |-- return 34\n",
      "|  |-- return 55\n",
      "55\n"
     ]
    }
   ],
   "source": [
    "print(bad_fib(10)) #print recursion trace for bad_fib"
   ]
  },
  {
   "cell_type": "code",
   "execution_count": 168,
   "metadata": {
    "ExecuteTime": {
     "end_time": "2019-10-07T23:30:27.999019Z",
     "start_time": "2019-10-07T23:30:27.990018Z"
    },
    "scrolled": true
   },
   "outputs": [
    {
     "name": "stdout",
     "output_type": "stream",
     "text": [
      "|--good_fib(10)\n",
      "|  |--good_fib(9)\n",
      "|  |  |--good_fib(8)\n",
      "|  |  |  |--good_fib(7)\n",
      "|  |  |  |  |--good_fib(6)\n",
      "|  |  |  |  |  |--good_fib(5)\n",
      "|  |  |  |  |  |  |--good_fib(4)\n",
      "|  |  |  |  |  |  |  |--good_fib(3)\n",
      "|  |  |  |  |  |  |  |  |--good_fib(2)\n",
      "|  |  |  |  |  |  |  |  |  |--good_fib(1)\n",
      "|  |  |  |  |  |  |  |  |  |  |-- return (1, 0)\n",
      "|  |  |  |  |  |  |  |  |  |-- return (1, 1)\n",
      "|  |  |  |  |  |  |  |  |-- return (2, 1)\n",
      "|  |  |  |  |  |  |  |-- return (3, 2)\n",
      "|  |  |  |  |  |  |-- return (5, 3)\n",
      "|  |  |  |  |  |-- return (8, 5)\n",
      "|  |  |  |  |-- return (13, 8)\n",
      "|  |  |  |-- return (21, 13)\n",
      "|  |  |-- return (34, 21)\n",
      "|  |-- return (55, 34)\n",
      "(55, 34)\n"
     ]
    }
   ],
   "source": [
    "print(good_fib(10)) #print recursion trace for good_fib"
   ]
  },
  {
   "cell_type": "code",
   "execution_count": 169,
   "metadata": {
    "ExecuteTime": {
     "end_time": "2019-10-07T23:30:28.046023Z",
     "start_time": "2019-10-07T23:30:28.001019Z"
    },
    "scrolled": true
   },
   "outputs": [
    {
     "name": "stdout",
     "output_type": "stream",
     "text": [
      "|--dynamic_fib(10. {})\n",
      "|  |--dynamic_fib(8. {})\n",
      "|  |  |--dynamic_fib(6. {})\n",
      "|  |  |  |--dynamic_fib(4. {})\n",
      "|  |  |  |  |--dynamic_fib(2. {})\n",
      "|  |  |  |  |  |--dynamic_fib(0. {})\n",
      "|  |  |  |  |  |  |-- return 0\n",
      "|  |  |  |  |  |--dynamic_fib(1. {0: 0})\n",
      "|  |  |  |  |  |  |-- return 1\n",
      "|  |  |  |  |  |-- return 1\n",
      "|  |  |  |  |--dynamic_fib(3. {0: 0, 1: 1, 2: 1})\n",
      "|  |  |  |  |  |--dynamic_fib(1. {0: 0, 1: 1, 2: 1})\n",
      "|  |  |  |  |  |  |-- return 1\n",
      "|  |  |  |  |  |--dynamic_fib(2. {0: 0, 1: 1, 2: 1})\n",
      "|  |  |  |  |  |  |-- return 1\n",
      "|  |  |  |  |  |-- return 2\n",
      "|  |  |  |  |-- return 3\n",
      "|  |  |  |--dynamic_fib(5. {0: 0, 1: 1, 2: 1, 3: 2, 4: 3})\n",
      "|  |  |  |  |--dynamic_fib(3. {0: 0, 1: 1, 2: 1, 3: 2, 4: 3})\n",
      "|  |  |  |  |  |-- return 2\n",
      "|  |  |  |  |--dynamic_fib(4. {0: 0, 1: 1, 2: 1, 3: 2, 4: 3})\n",
      "|  |  |  |  |  |-- return 3\n",
      "|  |  |  |  |-- return 5\n",
      "|  |  |  |-- return 8\n",
      "|  |  |--dynamic_fib(7. {0: 0, 1: 1, 2: 1, 3: 2, 4: 3, 5: 5, 6: 8})\n",
      "|  |  |  |--dynamic_fib(5. {0: 0, 1: 1, 2: 1, 3: 2, 4: 3, 5: 5, 6: 8})\n",
      "|  |  |  |  |-- return 5\n",
      "|  |  |  |--dynamic_fib(6. {0: 0, 1: 1, 2: 1, 3: 2, 4: 3, 5: 5, 6: 8})\n",
      "|  |  |  |  |-- return 8\n",
      "|  |  |  |-- return 13\n",
      "|  |  |-- return 21\n",
      "|  |--dynamic_fib(9. {0: 0, 1: 1, 2: 1, 3: 2, 4: 3, 5: 5, 6: 8, 7: 13, 8: 21})\n",
      "|  |  |--dynamic_fib(7. {0: 0, 1: 1, 2: 1, 3: 2, 4: 3, 5: 5, 6: 8, 7: 13, 8: 21})\n",
      "|  |  |  |-- return 13\n",
      "|  |  |--dynamic_fib(8. {0: 0, 1: 1, 2: 1, 3: 2, 4: 3, 5: 5, 6: 8, 7: 13, 8: 21})\n",
      "|  |  |  |-- return 21\n",
      "|  |  |-- return 34\n",
      "|  |-- return 55\n",
      "55\n"
     ]
    }
   ],
   "source": [
    "print(dynamic_fib(10, {})) #print recursion trace for dynamic_fib"
   ]
  }
 ],
 "metadata": {
  "kernelspec": {
   "display_name": "Python 3",
   "language": "python",
   "name": "python3"
  },
  "language_info": {
   "codemirror_mode": {
    "name": "ipython",
    "version": 3
   },
   "file_extension": ".py",
   "mimetype": "text/x-python",
   "name": "python",
   "nbconvert_exporter": "python",
   "pygments_lexer": "ipython3",
   "version": "3.7.1"
  }
 },
 "nbformat": 4,
 "nbformat_minor": 2
}

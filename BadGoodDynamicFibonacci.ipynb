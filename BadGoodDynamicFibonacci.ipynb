{
 "cells": [
  {
   "cell_type": "markdown",
   "metadata": {},
   "source": [
    "# Recursion Trace Function"
   ]
  },
  {
   "cell_type": "markdown",
   "metadata": {},
   "source": [
    "The trace wrapper function is implemented to print the recursiom trace with indentation for easy visualization of function execution."
   ]
  },
  {
   "cell_type": "code",
   "execution_count": 185,
   "metadata": {
    "ExecuteTime": {
     "end_time": "2019-10-07T23:41:20.935477Z",
     "start_time": "2019-10-07T23:41:20.924477Z"
    }
   },
   "outputs": [],
   "source": [
    "import timeit                #timeit for timecomplexity calculation\n",
    "from functools import wraps  #wraps for recursion trace\n",
    "\n",
    "def trace(func):\n",
    "    func_name = func.__name__  #get the function name\n",
    "    separator = \"|  \"          #separator for recursion indentation\n",
    "    trace.recursion_depth = 0  #recursion depth\n",
    "    \n",
    "    @wraps(func)\n",
    "    def trace_func(*args, **kwargs):\n",
    "        # Print recursion invocation with indentation based on recursion_depth\n",
    "        print(f\"{separator * trace.recursion_depth}|--{func_name}({'. '.join(map(str, args))})\") \n",
    "        trace.recursion_depth += 1 #keep track of recursion depth\n",
    "        result = func(*args, **kwargs) #invoke new function call\n",
    "        # Print recursion return with indentation based on recursion_depth\n",
    "        print(f\"{separator*trace.recursion_depth}|-- return {result}\")\n",
    "        trace.recursion_depth -= 1 #keep track of recursion depth\n",
    "        #return the results\n",
    "        return result\n",
    "    \n",
    "    #return the wrapper function\n",
    "    return trace_func"
   ]
  },
  {
   "cell_type": "markdown",
   "metadata": {},
   "source": [
    "# BAD Fibonacci function"
   ]
  },
  {
   "cell_type": "markdown",
   "metadata": {},
   "source": [
    "The bad_fib is implemented to call the bad_fib(n-2) and bad_fib(n-1). This function has duplicate calls computation of lower ordered terms multiple times."
   ]
  },
  {
   "cell_type": "code",
   "execution_count": 186,
   "metadata": {
    "ExecuteTime": {
     "end_time": "2019-10-07T23:41:20.951477Z",
     "start_time": "2019-10-07T23:41:20.941477Z"
    }
   },
   "outputs": [],
   "source": [
    "def bad_fib(n):\n",
    "    if n <= 1: \n",
    "        return n\n",
    "    else: \n",
    "        return bad_fib(n-2) + bad_fib(n-1)"
   ]
  },
  {
   "cell_type": "markdown",
   "metadata": {},
   "source": [
    "# Good Fibonacci function"
   ]
  },
  {
   "cell_type": "markdown",
   "metadata": {
    "ExecuteTime": {
     "end_time": "2019-10-07T23:04:20.953477Z",
     "start_time": "2019-10-07T23:04:20.942477Z"
    }
   },
   "source": [
    "The good_fib is implemented to use the tuple of last numbers in series to avoid duplicate calculations."
   ]
  },
  {
   "cell_type": "code",
   "execution_count": 187,
   "metadata": {
    "ExecuteTime": {
     "end_time": "2019-10-07T23:41:20.968477Z",
     "start_time": "2019-10-07T23:41:20.954477Z"
    }
   },
   "outputs": [],
   "source": [
    "def good_fib(n):\n",
    "    if n <= 1: \n",
    "        return n, 0\n",
    "    else: \n",
    "        a, b = good_fib(n-1)\n",
    "        return a + b, a"
   ]
  },
  {
   "cell_type": "markdown",
   "metadata": {},
   "source": [
    "# Fibonacci function with Dynamic Programming"
   ]
  },
  {
   "cell_type": "markdown",
   "metadata": {},
   "source": [
    "The dynamic_fib is implemented to use dictionary memory to keep track of previously computed values to avoid duplicate calculations."
   ]
  },
  {
   "cell_type": "code",
   "execution_count": 188,
   "metadata": {
    "ExecuteTime": {
     "end_time": "2019-10-07T23:41:20.986477Z",
     "start_time": "2019-10-07T23:41:20.972477Z"
    }
   },
   "outputs": [],
   "source": [
    "def dynamic_fib(n, memo = {}):\n",
    "    if n in memo.keys():    #if value calulated before return from memory\n",
    "        return memo[n]\n",
    "    else:\n",
    "        if n <= 1: \n",
    "            rv = n\n",
    "        else: \n",
    "            rv =  dynamic_fib(n-2, memo) + dynamic_fib(n-1, memo)  #claculate new value\n",
    "        memo[n] = rv    #keep track of calcualted values\n",
    "        return rv"
   ]
  },
  {
   "cell_type": "code",
   "execution_count": 189,
   "metadata": {
    "ExecuteTime": {
     "end_time": "2019-10-07T23:41:21.416477Z",
     "start_time": "2019-10-07T23:41:20.990477Z"
    }
   },
   "outputs": [
    {
     "name": "stdout",
     "output_type": "stream",
     "text": [
      "Bad Fib for 10:     0.30582167400007165\n",
      "Good Fib for 10:    0.026134592999369488\n",
      "Dynamic Fib for 10: 0.08452491099978943\n"
     ]
    }
   ],
   "source": [
    "#calculate time complexity\n",
    "print(\"Bad Fib for 10:    \", timeit.timeit(setup = \"from __main__ import bad_fib\", stmt = \"bad_fib(10)\", number = 10000))\n",
    "print(\"Good Fib for 10:   \", timeit.timeit(setup = \"from __main__ import good_fib\", stmt = \"good_fib(10)\", number = 10000))\n",
    "print(\"Dynamic Fib for 10:\", timeit.timeit(setup = \"from __main__ import dynamic_fib\", stmt = \"dynamic_fib(10, {})\", number = 10000))"
   ]
  },
  {
   "cell_type": "code",
   "execution_count": null,
   "metadata": {
    "ExecuteTime": {
     "end_time": "2019-10-07T23:41:08.891477Z",
     "start_time": "2019-10-07T23:41:08.882477Z"
    }
   },
   "outputs": [],
   "source": [
    "#Get trace wraper function\n",
    "bad_fib = trace(bad_fib)\n",
    "good_fib = trace(good_fib)\n",
    "dynamic_fib = trace(dynamic_fib)\n"
   ]
  },
  {
   "cell_type": "code",
   "execution_count": null,
   "metadata": {
    "ExecuteTime": {
     "end_time": "2019-10-07T23:41:08.923477Z",
     "start_time": "2019-10-07T23:41:08.895477Z"
    }
   },
   "outputs": [],
   "source": [
    "print(bad_fib(10)) #print recursion trace for bad_fib"
   ]
  },
  {
   "cell_type": "code",
   "execution_count": null,
   "metadata": {
    "ExecuteTime": {
     "end_time": "2019-10-07T23:41:09.027477Z",
     "start_time": "2019-10-07T23:41:08.928477Z"
    },
    "scrolled": true
   },
   "outputs": [],
   "source": [
    "print(good_fib(10)) #print recursion trace for good_fib"
   ]
  },
  {
   "cell_type": "code",
   "execution_count": null,
   "metadata": {
    "ExecuteTime": {
     "end_time": "2019-10-07T23:41:09.055477Z",
     "start_time": "2019-10-07T23:41:09.042477Z"
    },
    "scrolled": true
   },
   "outputs": [],
   "source": [
    "print(dynamic_fib(10, {})) #print recursion trace for dynamic_fib"
   ]
  }
 ],
 "metadata": {
  "kernelspec": {
   "display_name": "Python 3",
   "language": "python",
   "name": "python3"
  },
  "language_info": {
   "codemirror_mode": {
    "name": "ipython",
    "version": 3
   },
   "file_extension": ".py",
   "mimetype": "text/x-python",
   "name": "python",
   "nbconvert_exporter": "python",
   "pygments_lexer": "ipython3",
   "version": "3.7.1"
  }
 },
 "nbformat": 4,
 "nbformat_minor": 2
}
